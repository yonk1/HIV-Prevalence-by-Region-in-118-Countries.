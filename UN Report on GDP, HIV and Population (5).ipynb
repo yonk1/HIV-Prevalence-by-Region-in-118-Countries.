{
 "cells": [
  {
   "cell_type": "code",
   "execution_count": 1,
   "id": "682c48c1",
   "metadata": {},
   "outputs": [],
   "source": [
    "# imports the pandas and BeautifulSoup libraries and requests module.\n",
    "\n",
    "import pandas as pd\n",
    "from bs4 import BeautifulSoup as BS\n",
    "import requests\n",
    "import numpy as np"
   ]
  },
  {
   "cell_type": "code",
   "execution_count": 2,
   "id": "9a662aa2",
   "metadata": {},
   "outputs": [],
   "source": [
    "#Get request by using request.get()and pass in the desired URL\n",
    "\n",
    "URL =\"https://wisevoter.com/country-rankings/gdp-by-country/\"\n",
    "response = requests.get(URL)\n",
    "\n",
    "soup = BS(response.content,\"html.parser\")"
   ]
  },
  {
   "cell_type": "code",
   "execution_count": 3,
   "id": "7fb64ddf",
   "metadata": {},
   "outputs": [
    {
     "data": {
      "text/plain": [
       "requests.models.Response"
      ]
     },
     "execution_count": 3,
     "metadata": {},
     "output_type": "execute_result"
    }
   ],
   "source": [
    "type(response)"
   ]
  },
  {
   "cell_type": "code",
   "execution_count": 4,
   "id": "75ebdc73",
   "metadata": {},
   "outputs": [
    {
     "name": "stdout",
     "output_type": "stream",
     "text": [
      "Request was successful\n"
     ]
    }
   ],
   "source": [
    "#use this status code to check if the request was successful or not\n",
    "\n",
    "response.status_code\n",
    "\n",
    "if response.status_code == 200:\n",
    "    print('Request was successful')\n",
    "else:\n",
    "    print('Not successful')"
   ]
  },
  {
   "cell_type": "code",
   "execution_count": 5,
   "id": "e61748d9",
   "metadata": {},
   "outputs": [
    {
     "data": {
      "text/plain": [
       "<thead><tr><th>#</th><th>Country</th><th>GDP</th><th>GDP Growth</th><th>GDP per capita</th></tr></thead>"
      ]
     },
     "execution_count": 5,
     "metadata": {},
     "output_type": "execute_result"
    }
   ],
   "source": [
    "#extract the header of a table in Beautiful Soup\n",
    "GDP = soup.thead\n",
    "GDP"
   ]
  },
  {
   "cell_type": "code",
   "execution_count": 6,
   "id": "622c9e70",
   "metadata": {},
   "outputs": [
    {
     "data": {
      "text/plain": [
       "['#', 'Country', 'GDP', 'GDP Growth', 'GDP per capita']"
      ]
     },
     "execution_count": 6,
     "metadata": {},
     "output_type": "execute_result"
    }
   ],
   "source": [
    "#The soup.find_all('tr') method is used to find all the rows in the table.\n",
    "#The soup.find_all('th') method is used to find all the header cells in each row\n",
    "#The y.text method is used to extract the text from each header cell and append it to the GDP_row list.\n",
    "GDP_row = []\n",
    "for x in soup.find_all('tr'):\n",
    "    for y in x.find_all('th'):\n",
    "        GDP_row.append(y.text)\n",
    "GDP_row"
   ]
  },
  {
   "cell_type": "code",
   "execution_count": 7,
   "id": "b5c210ef",
   "metadata": {},
   "outputs": [],
   "source": [
    "#extract the body of a table from an HTML page using Beautiful Soup\n",
    "GDP_body = soup.find('tbody').prettify()"
   ]
  },
  {
   "cell_type": "code",
   "execution_count": 8,
   "id": "ade64a75",
   "metadata": {},
   "outputs": [],
   "source": [
    "#The soup.find_all('tr') method is used to find all the rows in the table\n",
    "#The x.find_all('td') method is used to find all the cells in each row\n",
    "#The y.text for y in td_tags method is used to extract the text from each cell and append it to the td_value list. \n",
    "#The table_value.append(td_value) is used to append the list of cell values for each row to the table_value list.\n",
    "table_value = []\n",
    "for x in soup.find_all('tr'):\n",
    "    td_tags = x.find_all('td')\n",
    "    td_value = [y.text for y in td_tags]\n",
    "    table_value.append(td_value)"
   ]
  },
  {
   "cell_type": "code",
   "execution_count": 9,
   "id": "63b8db82",
   "metadata": {},
   "outputs": [
    {
     "data": {
      "text/html": [
       "<div>\n",
       "<style scoped>\n",
       "    .dataframe tbody tr th:only-of-type {\n",
       "        vertical-align: middle;\n",
       "    }\n",
       "\n",
       "    .dataframe tbody tr th {\n",
       "        vertical-align: top;\n",
       "    }\n",
       "\n",
       "    .dataframe thead th {\n",
       "        text-align: right;\n",
       "    }\n",
       "</style>\n",
       "<table border=\"1\" class=\"dataframe\">\n",
       "  <thead>\n",
       "    <tr style=\"text-align: right;\">\n",
       "      <th></th>\n",
       "      <th>#</th>\n",
       "      <th>Country</th>\n",
       "      <th>GDP</th>\n",
       "      <th>GDP Growth</th>\n",
       "      <th>GDP per capita</th>\n",
       "    </tr>\n",
       "  </thead>\n",
       "  <tbody>\n",
       "    <tr>\n",
       "      <th>1</th>\n",
       "      <td>1</td>\n",
       "      <td>United States of America</td>\n",
       "      <td>23.3 trillion</td>\n",
       "      <td>3.7%</td>\n",
       "      <td>$70,248.63</td>\n",
       "    </tr>\n",
       "    <tr>\n",
       "      <th>2</th>\n",
       "      <td>2</td>\n",
       "      <td>People's Republic of China</td>\n",
       "      <td>17.7 trillion</td>\n",
       "      <td>4.4%</td>\n",
       "      <td>$12,556.33</td>\n",
       "    </tr>\n",
       "    <tr>\n",
       "      <th>3</th>\n",
       "      <td>3</td>\n",
       "      <td>Japan</td>\n",
       "      <td>4.9 trillion</td>\n",
       "      <td>2.4%</td>\n",
       "      <td>$39,312.66</td>\n",
       "    </tr>\n",
       "    <tr>\n",
       "      <th>4</th>\n",
       "      <td>4</td>\n",
       "      <td>Germany</td>\n",
       "      <td>4.3 trillion</td>\n",
       "      <td>2.1%</td>\n",
       "      <td>$51,203.55</td>\n",
       "    </tr>\n",
       "    <tr>\n",
       "      <th>5</th>\n",
       "      <td>5</td>\n",
       "      <td>India</td>\n",
       "      <td>3.2 trillion</td>\n",
       "      <td>8.2%</td>\n",
       "      <td>$2,256.59</td>\n",
       "    </tr>\n",
       "  </tbody>\n",
       "</table>\n",
       "</div>"
      ],
      "text/plain": [
       "   #                     Country            GDP GDP Growth GDP per capita\n",
       "1  1    United States of America  23.3 trillion       3.7%     $70,248.63\n",
       "2  2  People's Republic of China  17.7 trillion       4.4%     $12,556.33\n",
       "3  3                       Japan   4.9 trillion       2.4%     $39,312.66\n",
       "4  4                     Germany   4.3 trillion       2.1%     $51,203.55\n",
       "5  5                       India   3.2 trillion       8.2%      $2,256.59"
      ]
     },
     "execution_count": 9,
     "metadata": {},
     "output_type": "execute_result"
    }
   ],
   "source": [
    "#The first line creates a dataframe using the table_value and GDP_row data.\n",
    "#The second line drops the first row of the dataframe using the .drop() method.\n",
    "GDP_df = pd.DataFrame(table_value, columns=GDP_row)\n",
    "GDP_df = GDP_df.drop(GDP_df.index[0])\n",
    "GDP_df.head()"
   ]
  },
  {
   "cell_type": "code",
   "execution_count": 10,
   "id": "99f6d1ca",
   "metadata": {},
   "outputs": [
    {
     "data": {
      "text/html": [
       "<div>\n",
       "<style scoped>\n",
       "    .dataframe tbody tr th:only-of-type {\n",
       "        vertical-align: middle;\n",
       "    }\n",
       "\n",
       "    .dataframe tbody tr th {\n",
       "        vertical-align: top;\n",
       "    }\n",
       "\n",
       "    .dataframe thead th {\n",
       "        text-align: right;\n",
       "    }\n",
       "</style>\n",
       "<table border=\"1\" class=\"dataframe\">\n",
       "  <thead>\n",
       "    <tr style=\"text-align: right;\">\n",
       "      <th></th>\n",
       "      <th>#</th>\n",
       "      <th>Country</th>\n",
       "      <th>GDP</th>\n",
       "      <th>GDP Growth</th>\n",
       "      <th>GDP per capita</th>\n",
       "    </tr>\n",
       "  </thead>\n",
       "  <tbody>\n",
       "    <tr>\n",
       "      <th>1</th>\n",
       "      <td>1</td>\n",
       "      <td>United States of America</td>\n",
       "      <td>23.3 trillion</td>\n",
       "      <td>3.7%</td>\n",
       "      <td>70,248.63</td>\n",
       "    </tr>\n",
       "    <tr>\n",
       "      <th>2</th>\n",
       "      <td>2</td>\n",
       "      <td>People's Republic of China</td>\n",
       "      <td>17.7 trillion</td>\n",
       "      <td>4.4%</td>\n",
       "      <td>12,556.33</td>\n",
       "    </tr>\n",
       "    <tr>\n",
       "      <th>3</th>\n",
       "      <td>3</td>\n",
       "      <td>Japan</td>\n",
       "      <td>4.9 trillion</td>\n",
       "      <td>2.4%</td>\n",
       "      <td>39,312.66</td>\n",
       "    </tr>\n",
       "    <tr>\n",
       "      <th>4</th>\n",
       "      <td>4</td>\n",
       "      <td>Germany</td>\n",
       "      <td>4.3 trillion</td>\n",
       "      <td>2.1%</td>\n",
       "      <td>51,203.55</td>\n",
       "    </tr>\n",
       "    <tr>\n",
       "      <th>5</th>\n",
       "      <td>5</td>\n",
       "      <td>India</td>\n",
       "      <td>3.2 trillion</td>\n",
       "      <td>8.2%</td>\n",
       "      <td>2,256.59</td>\n",
       "    </tr>\n",
       "  </tbody>\n",
       "</table>\n",
       "</div>"
      ],
      "text/plain": [
       "   #                     Country            GDP GDP Growth GDP per capita\n",
       "1  1    United States of America  23.3 trillion       3.7%      70,248.63\n",
       "2  2  People's Republic of China  17.7 trillion       4.4%      12,556.33\n",
       "3  3                       Japan   4.9 trillion       2.4%      39,312.66\n",
       "4  4                     Germany   4.3 trillion       2.1%      51,203.55\n",
       "5  5                       India   3.2 trillion       8.2%       2,256.59"
      ]
     },
     "execution_count": 10,
     "metadata": {},
     "output_type": "execute_result"
    }
   ],
   "source": [
    "GDP_df['GDP per capita'] = GDP_df['GDP per capita'].replace({'\\$':''}, regex = True)\n",
    "GDP_df.head()"
   ]
  },
  {
   "cell_type": "code",
   "execution_count": 11,
   "id": "5ac729da",
   "metadata": {},
   "outputs": [],
   "source": [
    "#The .to_csv() method is used to save the dataframe as a CSV file.\n",
    "GDP_df.to_csv('GDP_df.to_csv', index=False)"
   ]
  },
  {
   "cell_type": "code",
   "execution_count": 12,
   "id": "0f703437",
   "metadata": {},
   "outputs": [
    {
     "name": "stdout",
     "output_type": "stream",
     "text": [
      "200\n"
     ]
    }
   ],
   "source": [
    "# get the response in the form of html\n",
    "wikiurl=\"https://en.wikipedia.org/wiki/List_of_countries_by_HIV/AIDS_adult_prevalence_rate\"\n",
    "table_class=\"ve-ce-branchNode ve-ce-tableNode static-row-numbers ve-ce-mwTableNode wikitable sortable jquery-tablesorter\"\n",
    "response2=requests.get(wikiurl)\n",
    "print(response2.status_code)"
   ]
  },
  {
   "cell_type": "code",
   "execution_count": 15,
   "id": "63ddb349",
   "metadata": {},
   "outputs": [],
   "source": [
    "# parse data from the html into a beautifulsoup object\n",
    "soup2 = BS(response2.text, 'html.parser')\n",
    "HIV=soup2.find('table',{'class':\"wikitable\"})"
   ]
  },
  {
   "cell_type": "code",
   "execution_count": 16,
   "id": "5a827363",
   "metadata": {},
   "outputs": [],
   "source": [
    "HIV_df=pd.read_html(str(HIV))\n",
    "# convert list to dataframe\n",
    "HIV_df=pd.DataFrame(HIV_df[0])"
   ]
  },
  {
   "cell_type": "code",
   "execution_count": null,
   "id": "2e008775",
   "metadata": {
    "scrolled": false
   },
   "outputs": [],
   "source": [
    "#Used this  code to clean the data. renames the columns of the DataFrame and replaces - with NaN. Then it drops rows \n",
    "# where all values are NaN and drops any remaining NaN values.\n",
    "HIV_df.rename(columns={'Country/Region': 'Country','Adult prevalence of HIV/AIDS[1]':'% of Adult with HIV',\n",
    "                       'Number of people with HIV/AIDS':'people with HIV','Annual deaths from HIV/AIDS[3]':\n",
    "                       'Annual deaths from HIV'}, inplace=True)\n",
    "#HIV_df.replace('-', np.nan, inplace=True)\n",
    "#HIV_df.dropna(how='all', inplace=True)\n",
    "#HIV_df.dropna(inplace=True)\n",
    "HIV_df.head()"
   ]
  },
  {
   "cell_type": "code",
   "execution_count": null,
   "id": "53633309",
   "metadata": {},
   "outputs": [],
   "source": [
    "HIV_df.to_csv('HIV5.csv', index=False)"
   ]
  },
  {
   "cell_type": "code",
   "execution_count": null,
   "id": "9a89c054",
   "metadata": {},
   "outputs": [],
   "source": [
    "#Get request by using request.get()and pass in the desired URL\n",
    "world=\"https://en.wikipedia.org/wiki/List_of_countries_by_population_(United_Nations)\"\n",
    "table_class=\"wikitable sortable static-row-numbers plainrowheaders srn-white-background jquery-tablesorter\"\n",
    "response3=requests.get(world)\n",
    "print(response3.status_code)"
   ]
  },
  {
   "cell_type": "code",
   "execution_count": null,
   "id": "29cbecf8",
   "metadata": {},
   "outputs": [],
   "source": [
    "## parse data from the html into a beautifulsoup object\n",
    "soup3 = BS(response3.text, 'html.parser')\n",
    "world_pop=soup3.find('table',{'class':\"wikitable\"})\n"
   ]
  },
  {
   "cell_type": "code",
   "execution_count": null,
   "id": "b75392b3",
   "metadata": {
    "scrolled": true
   },
   "outputs": [],
   "source": [
    "world_pop_df=pd.read_html(str(world_pop))\n",
    "# convert list to dataframe\n",
    "world_pop_df=pd.DataFrame(world_pop_df[0])\n",
    "world_pop_df.rename(columns={'Country / Area': 'Country','UN continental region[4]':'UN region','UN statistical subregion[4]':'UN subregion'}, inplace=True)\n",
    "world_pop_df.head()"
   ]
  },
  {
   "cell_type": "code",
   "execution_count": null,
   "id": "e141184a",
   "metadata": {},
   "outputs": [],
   "source": [
    "world_pop_df.to_csv('world_pop.csv', index=False)"
   ]
  },
  {
   "cell_type": "code",
   "execution_count": null,
   "id": "a19dea0b",
   "metadata": {},
   "outputs": [],
   "source": [
    "#I use This code to merges three data frames (GDP_df, HIV_df, and world_pop_df) on the column named ‘Country’. \n",
    "#The resulting data frame is assigned to the variable ‘world_gdp_hiv_df’\n",
    "world_GDP_HIV_df = pd.merge(GDP_df, pd.merge(HIV_df, world_pop_df, on='Country'), on='Country')\n",
    "world_GDP_HIV_df.head()"
   ]
  },
  {
   "cell_type": "code",
   "execution_count": null,
   "id": "46a0ad5d",
   "metadata": {},
   "outputs": [],
   "source": [
    "world_GDP_HIV_df.to_csv('world_GDP_HIV.csv', index=False)"
   ]
  },
  {
   "cell_type": "code",
   "execution_count": null,
   "id": "7ef8298a",
   "metadata": {},
   "outputs": [],
   "source": []
  }
 ],
 "metadata": {
  "kernelspec": {
   "display_name": "Python 3 (ipykernel)",
   "language": "python",
   "name": "python3"
  },
  "language_info": {
   "codemirror_mode": {
    "name": "ipython",
    "version": 3
   },
   "file_extension": ".py",
   "mimetype": "text/x-python",
   "name": "python",
   "nbconvert_exporter": "python",
   "pygments_lexer": "ipython3",
   "version": "3.10.9"
  }
 },
 "nbformat": 4,
 "nbformat_minor": 5
}
