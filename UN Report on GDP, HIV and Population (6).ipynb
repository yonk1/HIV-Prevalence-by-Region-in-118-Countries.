{
 "cells": [
  {
   "cell_type": "code",
   "execution_count": 1,
   "id": "682c48c1",
   "metadata": {},
   "outputs": [],
   "source": [
    "# imports the pandas and BeautifulSoup libraries and requests module.\n",
    "\n",
    "import pandas as pd\n",
    "from bs4 import BeautifulSoup as BS\n",
    "import requests\n",
    "import numpy as np"
   ]
  },
  {
   "cell_type": "code",
   "execution_count": 2,
   "id": "9a662aa2",
   "metadata": {},
   "outputs": [],
   "source": [
    "#Get request by using request.get()and pass in the desired URL\n",
    "\n",
    "URL =\"https://wisevoter.com/country-rankings/gdp-by-country/\"\n",
    "response = requests.get(URL)\n",
    "\n",
    "soup = BS(response.content,\"html.parser\")"
   ]
  },
  {
   "cell_type": "code",
   "execution_count": 3,
   "id": "7fb64ddf",
   "metadata": {},
   "outputs": [
    {
     "data": {
      "text/plain": [
       "requests.models.Response"
      ]
     },
     "execution_count": 3,
     "metadata": {},
     "output_type": "execute_result"
    }
   ],
   "source": [
    "type(response)"
   ]
  },
  {
   "cell_type": "code",
   "execution_count": 4,
   "id": "75ebdc73",
   "metadata": {},
   "outputs": [
    {
     "name": "stdout",
     "output_type": "stream",
     "text": [
      "Request was successful\n"
     ]
    }
   ],
   "source": [
    "#use this status code to check if the request was successful or not\n",
    "\n",
    "response.status_code\n",
    "\n",
    "if response.status_code == 200:\n",
    "    print('Request was successful')\n",
    "else:\n",
    "    print('Not successful')"
   ]
  },
  {
   "cell_type": "code",
   "execution_count": 5,
   "id": "e61748d9",
   "metadata": {},
   "outputs": [
    {
     "data": {
      "text/plain": [
       "<thead><tr><th>#</th><th>Country</th><th>GDP</th><th>GDP Growth</th><th>GDP per capita</th></tr></thead>"
      ]
     },
     "execution_count": 5,
     "metadata": {},
     "output_type": "execute_result"
    }
   ],
   "source": [
    "#extract the header of a table in Beautiful Soup\n",
    "GDP = soup.thead\n",
    "GDP"
   ]
  },
  {
   "cell_type": "code",
   "execution_count": 6,
   "id": "622c9e70",
   "metadata": {},
   "outputs": [
    {
     "data": {
      "text/plain": [
       "['#', 'Country', 'GDP', 'GDP Growth', 'GDP per capita']"
      ]
     },
     "execution_count": 6,
     "metadata": {},
     "output_type": "execute_result"
    }
   ],
   "source": [
    "#The soup.find_all('tr') method is used to find all the rows in the table.\n",
    "#The soup.find_all('th') method is used to find all the header cells in each row\n",
    "#The y.text method is used to extract the text from each header cell and append it to the GDP_row list.\n",
    "GDP_row = []\n",
    "for x in soup.find_all('tr'):\n",
    "    for y in x.find_all('th'):\n",
    "        GDP_row.append(y.text)\n",
    "GDP_row"
   ]
  },
  {
   "cell_type": "code",
   "execution_count": 7,
   "id": "b5c210ef",
   "metadata": {},
   "outputs": [],
   "source": [
    "#extract the body of a table from an HTML page using Beautiful Soup\n",
    "GDP_body = soup.find('tbody').prettify()"
   ]
  },
  {
   "cell_type": "code",
   "execution_count": 8,
   "id": "ade64a75",
   "metadata": {},
   "outputs": [],
   "source": [
    "#The soup.find_all('tr') method is used to find all the rows in the table\n",
    "#The x.find_all('td') method is used to find all the cells in each row\n",
    "#The y.text for y in td_tags method is used to extract the text from each cell and append it to the td_value list. \n",
    "#The table_value.append(td_value) is used to append the list of cell values for each row to the table_value list.\n",
    "table_value = []\n",
    "for x in soup.find_all('tr'):\n",
    "    td_tags = x.find_all('td')\n",
    "    td_value = [y.text for y in td_tags]\n",
    "    table_value.append(td_value)"
   ]
  },
  {
   "cell_type": "code",
   "execution_count": 9,
   "id": "63b8db82",
   "metadata": {},
   "outputs": [
    {
     "data": {
      "text/html": [
       "<div>\n",
       "<style scoped>\n",
       "    .dataframe tbody tr th:only-of-type {\n",
       "        vertical-align: middle;\n",
       "    }\n",
       "\n",
       "    .dataframe tbody tr th {\n",
       "        vertical-align: top;\n",
       "    }\n",
       "\n",
       "    .dataframe thead th {\n",
       "        text-align: right;\n",
       "    }\n",
       "</style>\n",
       "<table border=\"1\" class=\"dataframe\">\n",
       "  <thead>\n",
       "    <tr style=\"text-align: right;\">\n",
       "      <th></th>\n",
       "      <th>#</th>\n",
       "      <th>Country</th>\n",
       "      <th>GDP</th>\n",
       "      <th>GDP Growth</th>\n",
       "      <th>GDP per capita</th>\n",
       "    </tr>\n",
       "  </thead>\n",
       "  <tbody>\n",
       "    <tr>\n",
       "      <th>1</th>\n",
       "      <td>1</td>\n",
       "      <td>United States of America</td>\n",
       "      <td>23.3 trillion</td>\n",
       "      <td>3.7%</td>\n",
       "      <td>$70,248.63</td>\n",
       "    </tr>\n",
       "    <tr>\n",
       "      <th>2</th>\n",
       "      <td>2</td>\n",
       "      <td>People's Republic of China</td>\n",
       "      <td>17.7 trillion</td>\n",
       "      <td>4.4%</td>\n",
       "      <td>$12,556.33</td>\n",
       "    </tr>\n",
       "    <tr>\n",
       "      <th>3</th>\n",
       "      <td>3</td>\n",
       "      <td>Japan</td>\n",
       "      <td>4.9 trillion</td>\n",
       "      <td>2.4%</td>\n",
       "      <td>$39,312.66</td>\n",
       "    </tr>\n",
       "    <tr>\n",
       "      <th>4</th>\n",
       "      <td>4</td>\n",
       "      <td>Germany</td>\n",
       "      <td>4.3 trillion</td>\n",
       "      <td>2.1%</td>\n",
       "      <td>$51,203.55</td>\n",
       "    </tr>\n",
       "    <tr>\n",
       "      <th>5</th>\n",
       "      <td>5</td>\n",
       "      <td>India</td>\n",
       "      <td>3.2 trillion</td>\n",
       "      <td>8.2%</td>\n",
       "      <td>$2,256.59</td>\n",
       "    </tr>\n",
       "  </tbody>\n",
       "</table>\n",
       "</div>"
      ],
      "text/plain": [
       "   #                     Country            GDP GDP Growth GDP per capita\n",
       "1  1    United States of America  23.3 trillion       3.7%     $70,248.63\n",
       "2  2  People's Republic of China  17.7 trillion       4.4%     $12,556.33\n",
       "3  3                       Japan   4.9 trillion       2.4%     $39,312.66\n",
       "4  4                     Germany   4.3 trillion       2.1%     $51,203.55\n",
       "5  5                       India   3.2 trillion       8.2%      $2,256.59"
      ]
     },
     "execution_count": 9,
     "metadata": {},
     "output_type": "execute_result"
    }
   ],
   "source": [
    "#The first line creates a dataframe using the table_value and GDP_row data.\n",
    "#The second line drops the first row of the dataframe using the .drop() method.\n",
    "GDP_df = pd.DataFrame(table_value, columns=GDP_row)\n",
    "GDP_df = GDP_df.drop(GDP_df.index[0])\n",
    "GDP_df.head()"
   ]
  },
  {
   "cell_type": "code",
   "execution_count": 10,
   "id": "99f6d1ca",
   "metadata": {},
   "outputs": [
    {
     "data": {
      "text/html": [
       "<div>\n",
       "<style scoped>\n",
       "    .dataframe tbody tr th:only-of-type {\n",
       "        vertical-align: middle;\n",
       "    }\n",
       "\n",
       "    .dataframe tbody tr th {\n",
       "        vertical-align: top;\n",
       "    }\n",
       "\n",
       "    .dataframe thead th {\n",
       "        text-align: right;\n",
       "    }\n",
       "</style>\n",
       "<table border=\"1\" class=\"dataframe\">\n",
       "  <thead>\n",
       "    <tr style=\"text-align: right;\">\n",
       "      <th></th>\n",
       "      <th>#</th>\n",
       "      <th>Country</th>\n",
       "      <th>GDP</th>\n",
       "      <th>GDP Growth</th>\n",
       "      <th>GDP per capita</th>\n",
       "    </tr>\n",
       "  </thead>\n",
       "  <tbody>\n",
       "    <tr>\n",
       "      <th>1</th>\n",
       "      <td>1</td>\n",
       "      <td>United States of America</td>\n",
       "      <td>23.3 trillion</td>\n",
       "      <td>3.7%</td>\n",
       "      <td>70,248.63</td>\n",
       "    </tr>\n",
       "    <tr>\n",
       "      <th>2</th>\n",
       "      <td>2</td>\n",
       "      <td>People's Republic of China</td>\n",
       "      <td>17.7 trillion</td>\n",
       "      <td>4.4%</td>\n",
       "      <td>12,556.33</td>\n",
       "    </tr>\n",
       "    <tr>\n",
       "      <th>3</th>\n",
       "      <td>3</td>\n",
       "      <td>Japan</td>\n",
       "      <td>4.9 trillion</td>\n",
       "      <td>2.4%</td>\n",
       "      <td>39,312.66</td>\n",
       "    </tr>\n",
       "    <tr>\n",
       "      <th>4</th>\n",
       "      <td>4</td>\n",
       "      <td>Germany</td>\n",
       "      <td>4.3 trillion</td>\n",
       "      <td>2.1%</td>\n",
       "      <td>51,203.55</td>\n",
       "    </tr>\n",
       "    <tr>\n",
       "      <th>5</th>\n",
       "      <td>5</td>\n",
       "      <td>India</td>\n",
       "      <td>3.2 trillion</td>\n",
       "      <td>8.2%</td>\n",
       "      <td>2,256.59</td>\n",
       "    </tr>\n",
       "  </tbody>\n",
       "</table>\n",
       "</div>"
      ],
      "text/plain": [
       "   #                     Country            GDP GDP Growth GDP per capita\n",
       "1  1    United States of America  23.3 trillion       3.7%      70,248.63\n",
       "2  2  People's Republic of China  17.7 trillion       4.4%      12,556.33\n",
       "3  3                       Japan   4.9 trillion       2.4%      39,312.66\n",
       "4  4                     Germany   4.3 trillion       2.1%      51,203.55\n",
       "5  5                       India   3.2 trillion       8.2%       2,256.59"
      ]
     },
     "execution_count": 10,
     "metadata": {},
     "output_type": "execute_result"
    }
   ],
   "source": [
    "GDP_df['GDP per capita'] = GDP_df['GDP per capita'].replace({'\\$':''}, regex = True)\n",
    "GDP_df.head()"
   ]
  },
  {
   "cell_type": "code",
   "execution_count": 11,
   "id": "5ac729da",
   "metadata": {},
   "outputs": [],
   "source": [
    "#The .to_csv() method is used to save the dataframe as a CSV file.\n",
    "GDP_df.to_csv('GDP_df.to_csv', index=False)"
   ]
  },
  {
   "cell_type": "code",
   "execution_count": 12,
   "id": "0f703437",
   "metadata": {},
   "outputs": [
    {
     "name": "stdout",
     "output_type": "stream",
     "text": [
      "200\n"
     ]
    }
   ],
   "source": [
    "# get the response in the form of html\n",
    "wikiurl=\"https://en.wikipedia.org/wiki/List_of_countries_by_HIV/AIDS_adult_prevalence_rate\"\n",
    "table_class=\"ve-ce-branchNode ve-ce-tableNode static-row-numbers ve-ce-mwTableNode wikitable sortable jquery-tablesorter\"\n",
    "response2=requests.get(wikiurl)\n",
    "print(response2.status_code)"
   ]
  },
  {
   "cell_type": "code",
   "execution_count": 13,
   "id": "63ddb349",
   "metadata": {},
   "outputs": [],
   "source": [
    "# parse data from the html into a beautifulsoup object\n",
    "soup2 = BS(response2.text, 'html.parser')\n",
    "HIV=soup2.find('table',{'class':\"wikitable\"})"
   ]
  },
  {
   "cell_type": "code",
   "execution_count": 14,
   "id": "5a827363",
   "metadata": {},
   "outputs": [],
   "source": [
    "HIV_df=pd.read_html(str(HIV))\n",
    "# convert list to dataframe\n",
    "HIV_df=pd.DataFrame(HIV_df[0])"
   ]
  },
  {
   "cell_type": "code",
   "execution_count": 15,
   "id": "2e008775",
   "metadata": {
    "scrolled": false
   },
   "outputs": [
    {
     "data": {
      "text/html": [
       "<div>\n",
       "<style scoped>\n",
       "    .dataframe tbody tr th:only-of-type {\n",
       "        vertical-align: middle;\n",
       "    }\n",
       "\n",
       "    .dataframe tbody tr th {\n",
       "        vertical-align: top;\n",
       "    }\n",
       "\n",
       "    .dataframe thead th {\n",
       "        text-align: right;\n",
       "    }\n",
       "</style>\n",
       "<table border=\"1\" class=\"dataframe\">\n",
       "  <thead>\n",
       "    <tr style=\"text-align: right;\">\n",
       "      <th></th>\n",
       "      <th>Country</th>\n",
       "      <th>% of Adult with HIV</th>\n",
       "      <th>people with HIV</th>\n",
       "      <th>Annual deaths from HIV</th>\n",
       "      <th>Year of estimate</th>\n",
       "    </tr>\n",
       "  </thead>\n",
       "  <tbody>\n",
       "    <tr>\n",
       "      <th>0</th>\n",
       "      <td>Eswatini</td>\n",
       "      <td>28.30%</td>\n",
       "      <td>225000</td>\n",
       "      <td>2500</td>\n",
       "      <td>2023</td>\n",
       "    </tr>\n",
       "    <tr>\n",
       "      <th>1</th>\n",
       "      <td>Lesotho</td>\n",
       "      <td>23.40%</td>\n",
       "      <td>350000</td>\n",
       "      <td>5000</td>\n",
       "      <td>2023</td>\n",
       "    </tr>\n",
       "    <tr>\n",
       "      <th>2</th>\n",
       "      <td>Botswana</td>\n",
       "      <td>22.35%</td>\n",
       "      <td>392000</td>\n",
       "      <td>4990</td>\n",
       "      <td>2023</td>\n",
       "    </tr>\n",
       "    <tr>\n",
       "      <th>3</th>\n",
       "      <td>Zimbabwe</td>\n",
       "      <td>21.60%</td>\n",
       "      <td>1600000</td>\n",
       "      <td>25000</td>\n",
       "      <td>2023</td>\n",
       "    </tr>\n",
       "    <tr>\n",
       "      <th>4</th>\n",
       "      <td>South Africa</td>\n",
       "      <td>14%</td>\n",
       "      <td>9000000</td>\n",
       "      <td>75000</td>\n",
       "      <td>2023</td>\n",
       "    </tr>\n",
       "  </tbody>\n",
       "</table>\n",
       "</div>"
      ],
      "text/plain": [
       "        Country % of Adult with HIV people with HIV Annual deaths from HIV  \\\n",
       "0      Eswatini              28.30%          225000                   2500   \n",
       "1       Lesotho              23.40%          350000                   5000   \n",
       "2      Botswana              22.35%          392000                   4990   \n",
       "3      Zimbabwe              21.60%         1600000                  25000   \n",
       "4  South Africa                 14%         9000000                  75000   \n",
       "\n",
       "  Year of estimate  \n",
       "0             2023  \n",
       "1             2023  \n",
       "2             2023  \n",
       "3             2023  \n",
       "4             2023  "
      ]
     },
     "execution_count": 15,
     "metadata": {},
     "output_type": "execute_result"
    }
   ],
   "source": [
    "#Used this  code to clean the data. renames the columns of the DataFrame and replaces - with NaN. Then it drops rows \n",
    "# where all values are NaN and drops any remaining NaN values.\n",
    "HIV_df.rename(columns={'Country/Region': 'Country','Adult prevalence of HIV/AIDS[1]':'% of Adult with HIV',\n",
    "                       'Number of people with HIV/AIDS':'people with HIV','Annual deaths from HIV/AIDS[3]':\n",
    "                       'Annual deaths from HIV'}, inplace=True)\n",
    "#HIV_df.replace('-', np.nan, inplace=True)\n",
    "#HIV_df.dropna(how='all', inplace=True)\n",
    "#HIV_df.dropna(inplace=True)\n",
    "HIV_df.head()"
   ]
  },
  {
   "cell_type": "code",
   "execution_count": 16,
   "id": "53633309",
   "metadata": {},
   "outputs": [],
   "source": [
    "HIV_df.to_csv('HIV5.csv', index=False)"
   ]
  },
  {
   "cell_type": "code",
   "execution_count": 17,
   "id": "9a89c054",
   "metadata": {},
   "outputs": [
    {
     "name": "stdout",
     "output_type": "stream",
     "text": [
      "200\n"
     ]
    }
   ],
   "source": [
    "#Get request by using request.get()and pass in the desired URL\n",
    "world=\"https://en.wikipedia.org/wiki/List_of_countries_by_population_(United_Nations)\"\n",
    "table_class=\"wikitable sortable static-row-numbers plainrowheaders srn-white-background jquery-tablesorter\"\n",
    "response3=requests.get(world)\n",
    "print(response3.status_code)"
   ]
  },
  {
   "cell_type": "code",
   "execution_count": 18,
   "id": "29cbecf8",
   "metadata": {},
   "outputs": [],
   "source": [
    "## parse data from the html into a beautifulsoup object\n",
    "soup3 = BS(response3.text, 'html.parser')\n",
    "world_pop=soup3.find('table',{'class':\"wikitable\"})\n"
   ]
  },
  {
   "cell_type": "code",
   "execution_count": 19,
   "id": "b75392b3",
   "metadata": {
    "scrolled": true
   },
   "outputs": [
    {
     "data": {
      "text/html": [
       "<div>\n",
       "<style scoped>\n",
       "    .dataframe tbody tr th:only-of-type {\n",
       "        vertical-align: middle;\n",
       "    }\n",
       "\n",
       "    .dataframe tbody tr th {\n",
       "        vertical-align: top;\n",
       "    }\n",
       "\n",
       "    .dataframe thead th {\n",
       "        text-align: right;\n",
       "    }\n",
       "</style>\n",
       "<table border=\"1\" class=\"dataframe\">\n",
       "  <thead>\n",
       "    <tr style=\"text-align: right;\">\n",
       "      <th></th>\n",
       "      <th>Country</th>\n",
       "      <th>UN region</th>\n",
       "      <th>UN subregion</th>\n",
       "      <th>Population (1 July 2022)</th>\n",
       "      <th>Population (1 July 2023)</th>\n",
       "      <th>Change</th>\n",
       "    </tr>\n",
       "  </thead>\n",
       "  <tbody>\n",
       "    <tr>\n",
       "      <th>0</th>\n",
       "      <td>India</td>\n",
       "      <td>Asia</td>\n",
       "      <td>Southern Asia</td>\n",
       "      <td>1417173173</td>\n",
       "      <td>1428627663</td>\n",
       "      <td>+0.81%</td>\n",
       "    </tr>\n",
       "    <tr>\n",
       "      <th>1</th>\n",
       "      <td>China[a]</td>\n",
       "      <td>Asia</td>\n",
       "      <td>Eastern Asia</td>\n",
       "      <td>1425887337</td>\n",
       "      <td>1425671352</td>\n",
       "      <td>−0.02%</td>\n",
       "    </tr>\n",
       "    <tr>\n",
       "      <th>2</th>\n",
       "      <td>United States[b]</td>\n",
       "      <td>Americas</td>\n",
       "      <td>Northern America</td>\n",
       "      <td>338289857</td>\n",
       "      <td>339996564</td>\n",
       "      <td>+0.50%</td>\n",
       "    </tr>\n",
       "    <tr>\n",
       "      <th>3</th>\n",
       "      <td>Indonesia</td>\n",
       "      <td>Asia</td>\n",
       "      <td>Southeastern Asia</td>\n",
       "      <td>275501339</td>\n",
       "      <td>277534123</td>\n",
       "      <td>+0.74%</td>\n",
       "    </tr>\n",
       "    <tr>\n",
       "      <th>4</th>\n",
       "      <td>Pakistan</td>\n",
       "      <td>Asia</td>\n",
       "      <td>Southern Asia</td>\n",
       "      <td>235824863</td>\n",
       "      <td>240485658</td>\n",
       "      <td>+1.98%</td>\n",
       "    </tr>\n",
       "  </tbody>\n",
       "</table>\n",
       "</div>"
      ],
      "text/plain": [
       "            Country UN region       UN subregion  Population (1 July 2022)  \\\n",
       "0             India      Asia      Southern Asia                1417173173   \n",
       "1          China[a]      Asia       Eastern Asia                1425887337   \n",
       "2  United States[b]  Americas   Northern America                 338289857   \n",
       "3         Indonesia      Asia  Southeastern Asia                 275501339   \n",
       "4          Pakistan      Asia      Southern Asia                 235824863   \n",
       "\n",
       "   Population (1 July 2023)  Change  \n",
       "0                1428627663  +0.81%  \n",
       "1                1425671352  −0.02%  \n",
       "2                 339996564  +0.50%  \n",
       "3                 277534123  +0.74%  \n",
       "4                 240485658  +1.98%  "
      ]
     },
     "execution_count": 19,
     "metadata": {},
     "output_type": "execute_result"
    }
   ],
   "source": [
    "world_pop_df=pd.read_html(str(world_pop))\n",
    "# convert list to dataframe\n",
    "world_pop_df=pd.DataFrame(world_pop_df[0])\n",
    "world_pop_df.rename(columns={'Country / Area': 'Country','UN continental region[4]':'UN region','UN statistical subregion[4]':'UN subregion'}, inplace=True)\n",
    "world_pop_df.head()"
   ]
  },
  {
   "cell_type": "code",
   "execution_count": 20,
   "id": "e141184a",
   "metadata": {},
   "outputs": [],
   "source": [
    "world_pop_df.to_csv('world_pop.csv', index=False)"
   ]
  },
  {
   "cell_type": "code",
   "execution_count": 21,
   "id": "a19dea0b",
   "metadata": {},
   "outputs": [
    {
     "data": {
      "text/html": [
       "<div>\n",
       "<style scoped>\n",
       "    .dataframe tbody tr th:only-of-type {\n",
       "        vertical-align: middle;\n",
       "    }\n",
       "\n",
       "    .dataframe tbody tr th {\n",
       "        vertical-align: top;\n",
       "    }\n",
       "\n",
       "    .dataframe thead th {\n",
       "        text-align: right;\n",
       "    }\n",
       "</style>\n",
       "<table border=\"1\" class=\"dataframe\">\n",
       "  <thead>\n",
       "    <tr style=\"text-align: right;\">\n",
       "      <th></th>\n",
       "      <th>#</th>\n",
       "      <th>Country</th>\n",
       "      <th>GDP</th>\n",
       "      <th>GDP Growth</th>\n",
       "      <th>GDP per capita</th>\n",
       "      <th>% of Adult with HIV</th>\n",
       "      <th>people with HIV</th>\n",
       "      <th>Annual deaths from HIV</th>\n",
       "      <th>Year of estimate</th>\n",
       "      <th>UN region</th>\n",
       "      <th>UN subregion</th>\n",
       "      <th>Population (1 July 2022)</th>\n",
       "      <th>Population (1 July 2023)</th>\n",
       "      <th>Change</th>\n",
       "    </tr>\n",
       "  </thead>\n",
       "  <tbody>\n",
       "    <tr>\n",
       "      <th>0</th>\n",
       "      <td>3</td>\n",
       "      <td>Japan</td>\n",
       "      <td>4.9 trillion</td>\n",
       "      <td>2.4%</td>\n",
       "      <td>39,312.66</td>\n",
       "      <td>0.02%</td>\n",
       "      <td>21739</td>\n",
       "      <td>-</td>\n",
       "      <td>2022</td>\n",
       "      <td>Asia</td>\n",
       "      <td>Eastern Asia</td>\n",
       "      <td>123951692</td>\n",
       "      <td>123294513</td>\n",
       "      <td>−0.53%</td>\n",
       "    </tr>\n",
       "    <tr>\n",
       "      <th>1</th>\n",
       "      <td>4</td>\n",
       "      <td>Germany</td>\n",
       "      <td>4.3 trillion</td>\n",
       "      <td>2.1%</td>\n",
       "      <td>51,203.55</td>\n",
       "      <td>0.25%</td>\n",
       "      <td>100000</td>\n",
       "      <td>-</td>\n",
       "      <td>2023</td>\n",
       "      <td>Europe</td>\n",
       "      <td>Western Europe</td>\n",
       "      <td>83369843</td>\n",
       "      <td>83294633</td>\n",
       "      <td>−0.09%</td>\n",
       "    </tr>\n",
       "    <tr>\n",
       "      <th>2</th>\n",
       "      <td>5</td>\n",
       "      <td>India</td>\n",
       "      <td>3.2 trillion</td>\n",
       "      <td>8.2%</td>\n",
       "      <td>2,256.59</td>\n",
       "      <td>0.20%</td>\n",
       "      <td>2100000</td>\n",
       "      <td>69000</td>\n",
       "      <td>2017[13]</td>\n",
       "      <td>Asia</td>\n",
       "      <td>Southern Asia</td>\n",
       "      <td>1417173173</td>\n",
       "      <td>1428627663</td>\n",
       "      <td>+0.81%</td>\n",
       "    </tr>\n",
       "    <tr>\n",
       "      <th>3</th>\n",
       "      <td>6</td>\n",
       "      <td>United Kingdom</td>\n",
       "      <td>3.1 trillion</td>\n",
       "      <td>3.7%</td>\n",
       "      <td>46,510.28</td>\n",
       "      <td>0.20%</td>\n",
       "      <td>100000</td>\n",
       "      <td>-</td>\n",
       "      <td>2017</td>\n",
       "      <td>Europe</td>\n",
       "      <td>Northern Europe</td>\n",
       "      <td>67508936</td>\n",
       "      <td>67736802</td>\n",
       "      <td>+0.34%</td>\n",
       "    </tr>\n",
       "    <tr>\n",
       "      <th>4</th>\n",
       "      <td>8</td>\n",
       "      <td>Italy</td>\n",
       "      <td>2.1 trillion</td>\n",
       "      <td>2.3%</td>\n",
       "      <td>35,657.5</td>\n",
       "      <td>0.30%</td>\n",
       "      <td>130000</td>\n",
       "      <td>-</td>\n",
       "      <td>2016</td>\n",
       "      <td>Europe</td>\n",
       "      <td>Southern Europe</td>\n",
       "      <td>59037474</td>\n",
       "      <td>58870763</td>\n",
       "      <td>−0.28%</td>\n",
       "    </tr>\n",
       "  </tbody>\n",
       "</table>\n",
       "</div>"
      ],
      "text/plain": [
       "   #         Country           GDP GDP Growth GDP per capita  \\\n",
       "0  3           Japan  4.9 trillion       2.4%      39,312.66   \n",
       "1  4         Germany  4.3 trillion       2.1%      51,203.55   \n",
       "2  5           India  3.2 trillion       8.2%       2,256.59   \n",
       "3  6  United Kingdom  3.1 trillion       3.7%      46,510.28   \n",
       "4  8           Italy  2.1 trillion       2.3%       35,657.5   \n",
       "\n",
       "  % of Adult with HIV people with HIV Annual deaths from HIV Year of estimate  \\\n",
       "0               0.02%           21739                      -             2022   \n",
       "1               0.25%          100000                      -             2023   \n",
       "2               0.20%         2100000                  69000         2017[13]   \n",
       "3               0.20%          100000                      -             2017   \n",
       "4               0.30%          130000                      -             2016   \n",
       "\n",
       "  UN region     UN subregion  Population (1 July 2022)  \\\n",
       "0      Asia     Eastern Asia                 123951692   \n",
       "1    Europe   Western Europe                  83369843   \n",
       "2      Asia    Southern Asia                1417173173   \n",
       "3    Europe  Northern Europe                  67508936   \n",
       "4    Europe  Southern Europe                  59037474   \n",
       "\n",
       "   Population (1 July 2023)  Change  \n",
       "0                 123294513  −0.53%  \n",
       "1                  83294633  −0.09%  \n",
       "2                1428627663  +0.81%  \n",
       "3                  67736802  +0.34%  \n",
       "4                  58870763  −0.28%  "
      ]
     },
     "execution_count": 21,
     "metadata": {},
     "output_type": "execute_result"
    }
   ],
   "source": [
    "#I use This code to merges three data frames (GDP_df, HIV_df, and world_pop_df) on the column named ‘Country’. \n",
    "#The resulting data frame is assigned to the variable ‘world_gdp_hiv_df’\n",
    "world_GDP_HIV_df = pd.merge(GDP_df, pd.merge(HIV_df, world_pop_df, on='Country'), on='Country')\n",
    "world_GDP_HIV_df.head()"
   ]
  },
  {
   "cell_type": "code",
   "execution_count": 22,
   "id": "46a0ad5d",
   "metadata": {},
   "outputs": [],
   "source": [
    "world_GDP_HIV_df.to_csv('world_GDP_HIV.csv', index=False)"
   ]
  },
  {
   "cell_type": "code",
   "execution_count": null,
   "id": "7ef8298a",
   "metadata": {},
   "outputs": [],
   "source": []
  }
 ],
 "metadata": {
  "kernelspec": {
   "display_name": "Python 3 (ipykernel)",
   "language": "python",
   "name": "python3"
  },
  "language_info": {
   "codemirror_mode": {
    "name": "ipython",
    "version": 3
   },
   "file_extension": ".py",
   "mimetype": "text/x-python",
   "name": "python",
   "nbconvert_exporter": "python",
   "pygments_lexer": "ipython3",
   "version": "3.10.9"
  }
 },
 "nbformat": 4,
 "nbformat_minor": 5
}
